{
 "cells": [
  {
   "cell_type": "code",
   "execution_count": 1,
   "metadata": {},
   "outputs": [],
   "source": [
    "import csv\n",
    "import glob\n",
    "import os\n",
    "import os.path\n",
    "from subprocess import call"
   ]
  },
  {
   "cell_type": "code",
   "execution_count": 2,
   "metadata": {},
   "outputs": [
    {
     "name": "stdout",
     "output_type": "stream",
     "text": [
      "[['train', 'Golf Swing', '3283-8_700741', 60], ['train', 'Golf Swing', '3283-8_701201', 60], ['train', 'Golf Swing', '7606-2_700810', 60], ['train', 'Golf Swing', '7608-12_70275', 60], ['train', 'Golf Swing', '7608-5_70039', 17], ['train', 'Golf Swing', '7608-5_70308', 60], ['train', 'Golf Swing', '7608-9_70(2)151', 60], ['train', 'Golf Swing', 'RF1-13157_70040', 60], ['train', 'Golf Swing', 'RF1-13428_70288', 60], ['train', 'Golf Swing', 'RF1-13588_70046', 60], ['train', 'Golf Swing', 'RF1-13678_70045', 60], ['train', 'Golf Swing', 'RF1-13903_70070', 60], ['train', 'Kicking', '1084-44_l865', 23], ['train', 'Kicking', '3833-27_70006', 23], ['train', 'Kicking', '3833-40_70336', 23], ['train', 'Kicking', '3833-41_70187', 23], ['train', 'Kicking', '3937-9_70105', 23], ['train', 'Kicking', '3949-12_70207', 23], ['train', 'Kicking', '5117-8_70113', 23], ['train', 'Kicking', '5117-8_70350', 23], ['train', 'Kicking', '5863-29_70025', 23], ['train', 'Kicking', '6063-20_70333', 23], ['train', 'Kicking', '6063-21_70056', 23], ['train', 'Kicking', '6351-1_70011', 23], ['train', 'Kicking', 'RF1-16941_70021', 23], ['train', 'Lifting', '2502-2_70340', 111], ['train', 'Lifting', '3528-10_70424', 127], ['train', 'Lifting', '3528-6_70(2)268', 123], ['train', 'Riding Horse', '1098-6_70000', 58], ['train', 'Riding Horse', '4456-16_700040', 60], ['train', 'Riding Horse', '4456-16_700165', 60], ['train', 'Riding Horse', '4456-16_700516', 60], ['train', 'Riding Horse', '4456-16_700273', 60], ['train', 'Riding Horse', '6018-29_70000', 39], ['train', 'Riding Horse', '6029-1_70001', 57], ['train', 'Running', '5238-17_700000', 65], ['train', 'Running', '5373-10_70026', 65], ['train', 'Running', '5238-17_700641', 3], ['train', 'Running', '3687-17_70245', 65], ['train', 'Running', '6065-8_70110', 65], ['train', 'Running', '7850-5_70090', 65], ['train', 'SkateBoarding', '761-39000', 70], ['train', 'SkateBoarding', '860-2729', 70], ['train', 'SkateBoarding', '860-38064', 70], ['train', 'SkateBoarding', '708-77009', 70], ['train', 'SkateBoarding', '711-66044', 70], ['train', 'SkateBoarding', '860-2001', 70], ['train', 'SkateBoarding', '860-37150', 70], ['train', 'SkateBoarding', '947-58108', 70], ['train', 'SkateBoarding', '947-70005', 70], ['train', 'Swing-Bench', '2527-9_70018', 50], ['train', 'Swing-Bench', '2527-12_70461', 50], ['train', 'Swing-Bench', '2527-12_70574', 50], ['train', 'Swing-Bench', '2527-12_70137', 50], ['train', 'Swing-Bench', '2527-12_70186', 50], ['train', 'Swing-Bench', '2527-12_70526', 50], ['train', 'Swing-Bench', '2527-12_70641', 50], ['train', 'Swing-Bench', '2527-5_70114', 50], ['train', 'Swing-Bench', '669-60176', 50], ['train', 'Swing-Bench', '669-67070', 50], ['train', 'Swing-Bench', '669-67178', 50], ['train', 'Swing-Bench', '2527-9_70087', 50], ['train', 'Swing-Bench', '2527-9_70267', 50], ['train', 'Swing-Bench', '669-60220', 50], ['train', 'Swing-Side', 'vid1_0117', 35], ['train', 'Swing-Side', 'vid1_0302', 14], ['train', 'Swing-Side', 'vid1_0461', 75], ['train', 'Swing-Side', 'vid1_0855', 75], ['train', 'Swing-Side', 'vid6_025', 3], ['train', 'Swing-Side', 'vid8_0685', 75], ['train', 'Walking', '3206-12_70000', 101], ['train', 'Walking', '5561-7_70102', 101], ['train', 'Walking', 'RF1-13204_70095', 71], ['train', 'Walking', 'RF1-13205_70100', 109], ['train', 'Walking', 'RF1-15295_70060', 101], ['train', 'Walking', 'RF1-15341_70050', 102], ['train', 'Walking', 'RF1-18156_70301', 37], ['train', 'Walking', 'RF1-18526_70364', 101], ['train', 'Walking', 'RF1-10578_70285', 101], ['train', 'Walking', 'RF1-18566_700411', 60], ['train', 'Walking', '7608-3_70626', 101], ['train', 'Walking', 'RF1-10799_70080', 101], ['train', 'Walking', 'RF1-18524_70031', 101], ['train', 'Walking', 'RF1-18566_700560', 101], ['train', 'Walking', 'RF1-18598_70075', 101], ['test', 'Golf Swing', '3283-8_700741', 60], ['test', 'Golf Swing', '7603-4_70159', 60], ['test', 'Golf Swing', '7606-2_700810', 60], ['test', 'Golf Swing', 'RF1-13207_7015', 60], ['test', 'Golf Swing', 'RF1-13903_70070', 60], ['test', 'Kicking', '3833-15_70577', 23], ['test', 'Kicking', '6731-2_70017', 22], ['test', 'Kicking', '778-62_l146', 23], ['test', 'Lifting', '3528-6_70270', 122], ['test', 'Lifting', '3528-8_70514', 113], ['test', 'Riding Horse', '4456-16_700406', 60], ['test', 'Riding Horse', '7467-18_70103', 36], ['test', 'Riding Horse', 'RF1-12001_70063', 60], ['test', 'Running', '2670-5_70111', 65], ['test', 'Running', '5238-17_701581', 65], ['test', 'SkateBoarding', '708-75070', 70], ['test', 'Swing-Bench', '2527-5_70020', 50], ['test', 'Swing-Bench', '2527-9_70018', 50], ['test', 'Swing-Bench', '669-60084', 50], ['test', 'Swing-Side', '4367-6_70167', 75], ['test', 'Swing-Side', 'vid1_0674', 75], ['test', 'Walking', 'RF1-18075_70140', 103], ['test', 'Walking', 'RF1-18085_70010', 95], ['test', 'Walking', 'RF1-18598_70530', 101]]\n"
     ]
    }
   ],
   "source": [
    "data_file = []\n",
    "folders = ['classified_data/train', 'classified_data/test']\n",
    "\n",
    "for folder in folders:\n",
    "    class_folders = glob.glob(os.path.join(folder, '*'))\n",
    "    for video_class in class_folders:\n",
    "        class_files = glob.glob(os.path.join(video_class , '*.avi'))\n",
    "        for video_file in class_files:\n",
    "            parts = video_file.split(os.path.sep)\n",
    "            filename = parts[3]\n",
    "            filename_no_ext = filename.split('.')[0]\n",
    "            classname = parts[2]\n",
    "            train_or_test = parts[1]\n",
    "            if not os.path.exists(os.path.join('classified_data', train_or_test, classname, filename_no_ext + '-0001.jpg')):\n",
    "                src = os.path.join('classified_data' , train_or_test, classname, filename)\n",
    "                if not os.path.exists(os.path.join('classified_data', train_or_test, classname, filename_no_ext)):\n",
    "                    os.makedirs(os.path.join('classified_data', train_or_test, classname, filename_no_ext))\n",
    "                dest = os.path.join('classified_data' ,train_or_test, classname, filename_no_ext, filename_no_ext + '-%04d.jpg')\n",
    "                call(['ffmpeg', \"-i\", src, dest])\n",
    "                generated_files = glob.glob(os.path.join('classified_data', train_or_test, classname, filename_no_ext, filename_no_ext + '*.jpg'))\n",
    "                number_frames = len(generated_files)\n",
    "                data_file.append([train_or_test, classname, filename_no_ext, number_frames])\n",
    "print(data_file)"
   ]
  },
  {
   "cell_type": "code",
   "execution_count": 3,
   "metadata": {},
   "outputs": [],
   "source": [
    "with open('classified_data/data.csv','w') as fout:\n",
    "    writer = csv.writer(fout)\n",
    "    writer.writerows(data_file)"
   ]
  },
  {
   "cell_type": "code",
   "execution_count": 4,
   "metadata": {},
   "outputs": [],
   "source": [
    "with open('classified_data/data.csv', 'r') as fin:\n",
    "    reader = csv.reader(fin)\n",
    "    data_file = list(reader)"
   ]
  },
  {
   "cell_type": "code",
   "execution_count": 5,
   "metadata": {},
   "outputs": [],
   "source": [
    "import numpy as np\n",
    "from tqdm import tqdm"
   ]
  },
  {
   "cell_type": "code",
   "execution_count": 6,
   "metadata": {},
   "outputs": [
    {
     "name": "stdout",
     "output_type": "stream",
     "text": [
      "['Golf Swing', 'Kicking', 'Lifting', 'Riding Horse', 'Running', 'SkateBoarding', 'Swing-Bench', 'Swing-Side', 'Walking']\n"
     ]
    }
   ],
   "source": [
    "frames_considered = 20\n",
    "classes = []\n",
    "for item in data_file:\n",
    "    if item[1] not in classes:\n",
    "        classes.append(item[1])\n",
    "classes = sorted(classes)\n",
    "print(classes)"
   ]
  },
  {
   "cell_type": "code",
   "execution_count": 7,
   "metadata": {},
   "outputs": [],
   "source": [
    "clean_data = data_file"
   ]
  },
  {
   "cell_type": "code",
   "execution_count": 8,
   "metadata": {},
   "outputs": [
    {
     "name": "stderr",
     "output_type": "stream",
     "text": [
      "/home/neelr/anaconda3/lib/python3.6/site-packages/h5py/__init__.py:36: FutureWarning: Conversion of the second argument of issubdtype from `float` to `np.floating` is deprecated. In future, it will be treated as `np.float64 == np.dtype(float).type`.\n",
      "  from ._conv import register_converters as _register_converters\n",
      "Using TensorFlow backend.\n"
     ]
    }
   ],
   "source": [
    "from keras.preprocessing import image\n",
    "from keras.applications.inception_v3 import InceptionV3, preprocess_input\n",
    "from keras.models import Model"
   ]
  },
  {
   "cell_type": "code",
   "execution_count": 9,
   "metadata": {},
   "outputs": [],
   "source": [
    "seq_model = InceptionV3(weights='imagenet', include_top=True)"
   ]
  },
  {
   "cell_type": "code",
   "execution_count": 11,
   "metadata": {
    "scrolled": true
   },
   "outputs": [
    {
     "name": "stderr",
     "output_type": "stream",
     "text": [
      "  4%|▎         | 4/109 [00:35<16:01,  9.16s/it]"
     ]
    },
    {
     "name": "stdout",
     "output_type": "stream",
     "text": [
      "1\n",
      "2\n",
      "3\n",
      "4\n",
      "5\n",
      "6\n",
      "7\n",
      "8\n",
      "9\n",
      "10\n",
      "11\n",
      "12\n",
      "13\n",
      "14\n",
      "15\n",
      "16\n",
      "17\n",
      "18\n",
      "19\n",
      "20\n"
     ]
    },
    {
     "name": "stderr",
     "output_type": "stream",
     "text": [
      " 34%|███▍      | 37/109 [06:10<11:21,  9.47s/it]"
     ]
    },
    {
     "name": "stdout",
     "output_type": "stream",
     "text": [
      "1\n",
      "2\n",
      "3\n",
      "4\n",
      "5\n",
      "6\n",
      "7\n",
      "8\n",
      "9\n",
      "10\n",
      "11\n",
      "12\n",
      "13\n",
      "14\n",
      "15\n",
      "16\n",
      "17\n",
      "18\n",
      "19\n",
      "20\n"
     ]
    },
    {
     "name": "stderr",
     "output_type": "stream",
     "text": [
      " 60%|█████▉    | 65/109 [10:35<07:09,  9.76s/it]"
     ]
    },
    {
     "name": "stdout",
     "output_type": "stream",
     "text": [
      "1\n",
      "2\n",
      "3\n",
      "4\n",
      "5\n",
      "6\n",
      "7\n",
      "8\n",
      "9\n",
      "10\n",
      "11\n",
      "12\n",
      "13\n",
      "14\n",
      "15\n",
      "16\n",
      "17\n",
      "18\n",
      "19\n",
      "20\n"
     ]
    },
    {
     "name": "stderr",
     "output_type": "stream",
     "text": [
      " 62%|██████▏   | 68/109 [11:05<06:48,  9.98s/it]"
     ]
    },
    {
     "name": "stdout",
     "output_type": "stream",
     "text": [
      "1\n",
      "2\n",
      "3\n",
      "4\n",
      "5\n",
      "6\n",
      "7\n",
      "8\n",
      "9\n",
      "10\n",
      "11\n",
      "12\n",
      "13\n",
      "14\n",
      "15\n",
      "16\n",
      "17\n",
      "18\n",
      "19\n",
      "20\n"
     ]
    },
    {
     "name": "stderr",
     "output_type": "stream",
     "text": [
      "100%|██████████| 109/109 [16:52<00:00,  9.27s/it]\n"
     ]
    }
   ],
   "source": [
    "from keras.preprocessing import image\n",
    "pbar = tqdm(total = len(clean_data))\n",
    "if not os.path.exists(os.path.join('classified_data', 'sequences')):\n",
    "    os.makedirs(os.path.join('classified_data', 'sequences'))\n",
    "for item in clean_data:\n",
    "    output_frames = []\n",
    "    path = os.path.join('classified_data', 'sequences', item[2] + '-' + str(frames_considered) + '-features')\n",
    "    if os.path.isfile(path + '.npy'):\n",
    "        pbar.update(1)\n",
    "        continue\n",
    "    else:\n",
    "        os.mknod(path+'.npy')\n",
    "    frames_path = os.path.join('classified_data', item[0], item[1])\n",
    "    file_name = item[2]\n",
    "    frames = sorted(glob.glob(os.path.join(frames_path, file_name, file_name + '*.jpg')))\n",
    "    \n",
    "    if (int)(item[3]) < frames_considered:\n",
    "        reps = (int)(frames_considered/len(frames))\n",
    "        remainder = (frames_considered%len(frames))\n",
    "        startreps = reps + (int)(remainder/2)\n",
    "        endreps = reps + (int)(remainder - startreps + reps)\n",
    "        frame_number  = 0\n",
    "        #print(str(reps) + \" \" +str(remainder) + \" \" + str(startreps) + \" \" + str(endreps))\n",
    "        #c = 0\n",
    "        for frame in frames:\n",
    "            if frame_number == 0:\n",
    "                for i in range(0, startreps):\n",
    "                    output_frames.append(frame)\n",
    "                    #c += 1\n",
    "                    #print(c)\n",
    "            elif frame_number == (len(frames) - 1):\n",
    "                for i in range(0, endreps):\n",
    "                    output_frames.append(frame)\n",
    "                    #c += 1\n",
    "                    #print(c)\n",
    "            else:\n",
    "                for i in range(0,reps):\n",
    "                    output_frames.append(frame)\n",
    "                    #c += 1\n",
    "                    #print(c)\n",
    "            frame_number += 1\n",
    "    else:\n",
    "        skip = len(frames) // frames_considered\n",
    "        output_frames = [frames[i] for i in range(0, len(frames), skip)]\n",
    "    sequence = []\n",
    "    count = 0\n",
    "    #print(item[2] + \" \" + (str)(len(output_frames)))\n",
    "    for frame in output_frames:\n",
    "        if count < frames_considered:\n",
    "            img = image.load_img(frame, target_size=(299, 299))\n",
    "            x = image.img_to_array(img)\n",
    "            x = np.expand_dims(x, axis = 0)\n",
    "            x = preprocess_input(x)\n",
    "            features = seq_model.predict(x)\n",
    "            features = features[0]\n",
    "            count += 1\n",
    "            sequence.append(features)\n",
    "    #print('number of frames', count)\n",
    "    np.save(path, sequence)\n",
    "    pbar.update(1)\n",
    "pbar.close()"
   ]
  },
  {
   "cell_type": "code",
   "execution_count": 12,
   "metadata": {},
   "outputs": [],
   "source": [
    "from keras.layers import LSTM, Dense\n",
    "from keras.models import Sequential"
   ]
  },
  {
   "cell_type": "code",
   "execution_count": 12,
   "metadata": {},
   "outputs": [],
   "source": [
    "model = Sequential()\n",
    "model.add(LSTM(128, input_shape=(frames_considered, 1000), return_sequences = True))\n",
    "model.add(LSTM(128))\n",
    "model.add(Dense(len(classes), activation='softmax'))"
   ]
  },
  {
   "cell_type": "code",
   "execution_count": 13,
   "metadata": {},
   "outputs": [],
   "source": [
    "model.compile(loss = 'categorical_crossentropy', optimizer='adam',metrics=['accuracy'])"
   ]
  },
  {
   "cell_type": "code",
   "execution_count": 14,
   "metadata": {},
   "outputs": [
    {
     "name": "stdout",
     "output_type": "stream",
     "text": [
      "_________________________________________________________________\n",
      "Layer (type)                 Output Shape              Param #   \n",
      "=================================================================\n",
      "lstm_1 (LSTM)                (None, 15, 128)           578048    \n",
      "_________________________________________________________________\n",
      "lstm_2 (LSTM)                (None, 128)               131584    \n",
      "_________________________________________________________________\n",
      "dense_1 (Dense)              (None, 9)                 1161      \n",
      "=================================================================\n",
      "Total params: 710,793\n",
      "Trainable params: 710,793\n",
      "Non-trainable params: 0\n",
      "_________________________________________________________________\n",
      "None\n"
     ]
    }
   ],
   "source": [
    "print(model.summary())"
   ]
  },
  {
   "cell_type": "code",
   "execution_count": 13,
   "metadata": {},
   "outputs": [],
   "source": [
    "from keras.callbacks import EarlyStopping, ReduceLROnPlateau, ModelCheckpoint, TensorBoard"
   ]
  },
  {
   "cell_type": "code",
   "execution_count": 14,
   "metadata": {},
   "outputs": [],
   "source": [
    "callbacks = [EarlyStopping(monitor='accuracy', patience = 8, verbose=1, min_delta=1e-4, mode='max'),\n",
    "             ReduceLROnPlateau(monitor='accuracy', factor=0.1, patience=4, verbose=1, epsilon=1e-4,mode='max')]"
   ]
  },
  {
   "cell_type": "code",
   "execution_count": 15,
   "metadata": {},
   "outputs": [],
   "source": [
    "train_dataset = []\n",
    "test_dataset = []\n",
    "for item in clean_data:\n",
    "    if item[0] == 'train':\n",
    "        train_dataset.append(item)\n",
    "    else:\n",
    "        test_dataset.append(item)\n",
    "\n",
    "import random\n",
    "from keras.utils import to_categorical\n",
    "def frame_generator(batch_size,train_test):\n",
    "    current_data = train_dataset if train_test == 'train' else test_dataset\n",
    "    while 1:\n",
    "        x, y = [] , []\n",
    "        for _ in range(batch_size):\n",
    "            sequence = None\n",
    "            sample = random.choice(current_data)\n",
    "            filename = sample[2]\n",
    "            path = os.path.join('classified_data','sequences',filename+'-' + (str)(frames_considered) + '-features.npy' )\n",
    "            if os.path.isfile(path):\n",
    "                sequence = np.load(path)\n",
    "            label_encoded = classes.index(sample[1])\n",
    "            label_hot = to_categorical(label_encoded, len(classes))\n",
    "            np.reshape(sequence, (sequence.shape[0], 1, sequence.shape[1]))\n",
    "            #print(sequence.shape)\n",
    "            x.append(sequence)\n",
    "            y.append(label_hot)\n",
    "            #x.reshape(40, 2048)\n",
    "            yield np.array(x), np.array(y)"
   ]
  },
  {
   "cell_type": "code",
   "execution_count": 16,
   "metadata": {},
   "outputs": [],
   "source": [
    "train_generator = frame_generator(32, 'train')\n",
    "test_generator = frame_generator(32, 'test')"
   ]
  },
  {
   "cell_type": "code",
   "execution_count": 19,
   "metadata": {},
   "outputs": [
    {
     "name": "stdout",
     "output_type": "stream",
     "text": [
      "Epoch 1/10\n",
      "50/50 [==============================] - 5s 102ms/step - loss: 1.5834 - acc: 0.5391 - val_loss: 1.8524 - val_acc: 0.4592\n",
      "Epoch 2/10\n",
      " 1/50 [..............................] - ETA: 2s - loss: 1.0996 - acc: 0.5789"
     ]
    },
    {
     "name": "stderr",
     "output_type": "stream",
     "text": [
      "/home/neelr/anaconda3/lib/python3.6/site-packages/keras/callbacks.py:526: RuntimeWarning: Early stopping conditioned on metric `accuracy` which is not available. Available metrics are: val_loss,val_acc,loss,acc\n",
      "  (self.monitor, ','.join(list(logs.keys()))), RuntimeWarning\n",
      "/home/neelr/anaconda3/lib/python3.6/site-packages/keras/callbacks.py:958: RuntimeWarning: Reduce LR on plateau conditioned on metric `accuracy` which is not available. Available metrics are: val_loss,val_acc,loss,acc,lr\n",
      "  (self.monitor, ','.join(list(logs.keys()))), RuntimeWarning\n"
     ]
    },
    {
     "name": "stdout",
     "output_type": "stream",
     "text": [
      "50/50 [==============================] - 4s 74ms/step - loss: 0.5932 - acc: 0.7774 - val_loss: 1.9309 - val_acc: 0.6199\n",
      "Epoch 3/10\n",
      " 3/50 [>.............................] - ETA: 2s - loss: 0.3979 - acc: 1.0000"
     ]
    },
    {
     "name": "stderr",
     "output_type": "stream",
     "text": [
      "/home/neelr/anaconda3/lib/python3.6/site-packages/keras/callbacks.py:526: RuntimeWarning: Early stopping conditioned on metric `accuracy` which is not available. Available metrics are: val_loss,val_acc,loss,acc,lr\n",
      "  (self.monitor, ','.join(list(logs.keys()))), RuntimeWarning\n"
     ]
    },
    {
     "name": "stdout",
     "output_type": "stream",
     "text": [
      "50/50 [==============================] - 4s 75ms/step - loss: 0.3996 - acc: 0.9229 - val_loss: 2.3314 - val_acc: 0.5709\n",
      "Epoch 4/10\n",
      "50/50 [==============================] - 4s 76ms/step - loss: 0.0963 - acc: 0.9665 - val_loss: 2.3451 - val_acc: 0.5582\n",
      "Epoch 5/10\n",
      "50/50 [==============================] - 4s 88ms/step - loss: 0.1007 - acc: 0.9795 - val_loss: 1.8024 - val_acc: 0.6988\n",
      "Epoch 6/10\n",
      "50/50 [==============================] - 4s 86ms/step - loss: 0.4062 - acc: 0.9154 - val_loss: 2.8135 - val_acc: 0.5257\n",
      "Epoch 7/10\n",
      "50/50 [==============================] - 4s 88ms/step - loss: 0.1236 - acc: 0.9681 - val_loss: 2.2378 - val_acc: 0.6370\n",
      "Epoch 8/10\n",
      "50/50 [==============================] - 5s 94ms/step - loss: 0.0445 - acc: 0.9920 - val_loss: 2.3630 - val_acc: 0.5940\n",
      "Epoch 9/10\n",
      "50/50 [==============================] - 5s 97ms/step - loss: 0.2338 - acc: 0.9493 - val_loss: 1.1811 - val_acc: 0.7768\n",
      "Epoch 10/10\n",
      "50/50 [==============================] - 5s 91ms/step - loss: 0.0607 - acc: 0.9785 - val_loss: 1.4979 - val_acc: 0.7616\n"
     ]
    },
    {
     "data": {
      "text/plain": [
       "<keras.callbacks.History at 0x7ff7e20ea9b0>"
      ]
     },
     "execution_count": 19,
     "metadata": {},
     "output_type": "execute_result"
    }
   ],
   "source": [
    "epochs = 10\n",
    "model.fit_generator(generator=train_generator, epochs = 10, steps_per_epoch=50, callbacks=callbacks, verbose=1,\n",
    "                   validation_data=test_generator, validation_steps=50)"
   ]
  },
  {
   "cell_type": "code",
   "execution_count": 20,
   "metadata": {},
   "outputs": [],
   "source": [
    "from keras.layers import Flatten, Dropout\n",
    "model1 = Sequential()\n",
    "model1.add(LSTM(2048, return_sequences=False, input_shape= (15, 1000), dropout=0.5))\n",
    "model1.add(Dense(512, activation='relu'))\n",
    "model1.add(Dropout(0.5))\n",
    "#model1.add(Flatten())\n",
    "model1.add(Dense(len(classes), activation='softmax'))"
   ]
  },
  {
   "cell_type": "code",
   "execution_count": 21,
   "metadata": {},
   "outputs": [],
   "source": [
    "model1.compile(loss = 'categorical_crossentropy', optimizer='adam',metrics=['accuracy'])"
   ]
  },
  {
   "cell_type": "code",
   "execution_count": 22,
   "metadata": {},
   "outputs": [
    {
     "name": "stdout",
     "output_type": "stream",
     "text": [
      "_________________________________________________________________\n",
      "Layer (type)                 Output Shape              Param #   \n",
      "=================================================================\n",
      "lstm_3 (LSTM)                (None, 2048)              24977408  \n",
      "_________________________________________________________________\n",
      "dense_2 (Dense)              (None, 512)               1049088   \n",
      "_________________________________________________________________\n",
      "dropout_1 (Dropout)          (None, 512)               0         \n",
      "_________________________________________________________________\n",
      "dense_3 (Dense)              (None, 9)                 4617      \n",
      "=================================================================\n",
      "Total params: 26,031,113\n",
      "Trainable params: 26,031,113\n",
      "Non-trainable params: 0\n",
      "_________________________________________________________________\n",
      "None\n"
     ]
    }
   ],
   "source": [
    "print(model1.summary())"
   ]
  },
  {
   "cell_type": "code",
   "execution_count": 23,
   "metadata": {},
   "outputs": [
    {
     "name": "stdout",
     "output_type": "stream",
     "text": [
      "Epoch 1/10\n",
      "50/50 [==============================] - 135s 3s/step - loss: 2.5396 - acc: 0.5073 - val_loss: 4.3395 - val_acc: 0.1874\n",
      "Epoch 2/10\n"
     ]
    },
    {
     "name": "stderr",
     "output_type": "stream",
     "text": [
      "/home/neelr/anaconda3/lib/python3.6/site-packages/keras/callbacks.py:526: RuntimeWarning: Early stopping conditioned on metric `accuracy` which is not available. Available metrics are: val_loss,val_acc,loss,acc\n",
      "  (self.monitor, ','.join(list(logs.keys()))), RuntimeWarning\n",
      "/home/neelr/anaconda3/lib/python3.6/site-packages/keras/callbacks.py:958: RuntimeWarning: Reduce LR on plateau conditioned on metric `accuracy` which is not available. Available metrics are: val_loss,val_acc,loss,acc,lr\n",
      "  (self.monitor, ','.join(list(logs.keys()))), RuntimeWarning\n"
     ]
    },
    {
     "name": "stdout",
     "output_type": "stream",
     "text": [
      "50/50 [==============================] - 145s 3s/step - loss: 5.3349 - acc: 0.1789 - val_loss: 7.7561 - val_acc: 0.0865\n",
      "Epoch 3/10\n"
     ]
    },
    {
     "name": "stderr",
     "output_type": "stream",
     "text": [
      "/home/neelr/anaconda3/lib/python3.6/site-packages/keras/callbacks.py:526: RuntimeWarning: Early stopping conditioned on metric `accuracy` which is not available. Available metrics are: val_loss,val_acc,loss,acc,lr\n",
      "  (self.monitor, ','.join(list(logs.keys()))), RuntimeWarning\n"
     ]
    },
    {
     "name": "stdout",
     "output_type": "stream",
     "text": [
      "50/50 [==============================] - 145s 3s/step - loss: 7.2416 - acc: 0.2215 - val_loss: 9.0505 - val_acc: 0.1907\n",
      "Epoch 4/10\n",
      "50/50 [==============================] - 149s 3s/step - loss: 8.4694 - acc: 0.3184 - val_loss: 11.5332 - val_acc: 0.2481\n",
      "Epoch 5/10\n",
      "50/50 [==============================] - 144s 3s/step - loss: 12.4203 - acc: 0.2021 - val_loss: 12.6373 - val_acc: 0.1779\n",
      "Epoch 6/10\n",
      "50/50 [==============================] - 148s 3s/step - loss: 12.0224 - acc: 0.1929 - val_loss: 11.1257 - val_acc: 0.3074\n",
      "Epoch 7/10\n",
      "50/50 [==============================] - 142s 3s/step - loss: 11.7670 - acc: 0.2320 - val_loss: 10.8447 - val_acc: 0.3276\n",
      "Epoch 8/10\n",
      "50/50 [==============================] - 124s 2s/step - loss: 12.3159 - acc: 0.1277 - val_loss: 9.6755 - val_acc: 0.3921\n",
      "Epoch 9/10\n",
      "50/50 [==============================] - 134s 3s/step - loss: 11.3103 - acc: 0.2696 - val_loss: 11.9523 - val_acc: 0.2306\n",
      "Epoch 10/10\n",
      "50/50 [==============================] - 129s 3s/step - loss: 8.4003 - acc: 0.4598 - val_loss: 12.6312 - val_acc: 0.2042\n"
     ]
    },
    {
     "data": {
      "text/plain": [
       "<keras.callbacks.History at 0x7ff7b5a78d68>"
      ]
     },
     "execution_count": 23,
     "metadata": {},
     "output_type": "execute_result"
    }
   ],
   "source": [
    "epochs = 10\n",
    "model1.fit_generator(generator=train_generator, epochs = 10, steps_per_epoch=50, callbacks=callbacks, verbose=1,\n",
    "                   validation_data=test_generator, validation_steps=50)"
   ]
  },
  {
   "cell_type": "code",
   "execution_count": 24,
   "metadata": {},
   "outputs": [
    {
     "name": "stdout",
     "output_type": "stream",
     "text": [
      "_________________________________________________________________\n",
      "Layer (type)                 Output Shape              Param #   \n",
      "=================================================================\n",
      "lstm_4 (LSTM)                (None, 15, 2048)          24977408  \n",
      "_________________________________________________________________\n",
      "dense_4 (Dense)              (None, 15, 512)           1049088   \n",
      "_________________________________________________________________\n",
      "dropout_2 (Dropout)          (None, 15, 512)           0         \n",
      "_________________________________________________________________\n",
      "flatten_1 (Flatten)          (None, 7680)              0         \n",
      "_________________________________________________________________\n",
      "dense_5 (Dense)              (None, 9)                 69129     \n",
      "=================================================================\n",
      "Total params: 26,095,625\n",
      "Trainable params: 26,095,625\n",
      "Non-trainable params: 0\n",
      "_________________________________________________________________\n",
      "None\n"
     ]
    }
   ],
   "source": [
    "from keras.layers import Flatten, Dropout\n",
    "model2 = Sequential()\n",
    "model2.add(LSTM(2048, return_sequences=True, input_shape= (15, 1000), dropout=0.5))\n",
    "model2.add(Dense(512, activation='relu'))\n",
    "model2.add(Dropout(0.5))\n",
    "model2.add(Flatten())\n",
    "model2.add(Dense(len(classes), activation='softmax'))\n",
    "model2.compile(loss = 'categorical_crossentropy', optimizer='adam',metrics=['accuracy'])\n",
    "print(model2.summary())"
   ]
  },
  {
   "cell_type": "code",
   "execution_count": 25,
   "metadata": {},
   "outputs": [
    {
     "name": "stdout",
     "output_type": "stream",
     "text": [
      "Epoch 1/10\n",
      "100/100 [==============================] - 333s 3s/step - loss: 1.3855 - acc: 0.5412 - val_loss: 5.4876 - val_acc: 0.2492\n",
      "Epoch 2/10\n"
     ]
    },
    {
     "name": "stderr",
     "output_type": "stream",
     "text": [
      "/home/neelr/anaconda3/lib/python3.6/site-packages/keras/callbacks.py:526: RuntimeWarning: Early stopping conditioned on metric `accuracy` which is not available. Available metrics are: val_loss,val_acc,loss,acc\n",
      "  (self.monitor, ','.join(list(logs.keys()))), RuntimeWarning\n",
      "/home/neelr/anaconda3/lib/python3.6/site-packages/keras/callbacks.py:958: RuntimeWarning: Reduce LR on plateau conditioned on metric `accuracy` which is not available. Available metrics are: val_loss,val_acc,loss,acc,lr\n",
      "  (self.monitor, ','.join(list(logs.keys()))), RuntimeWarning\n"
     ]
    },
    {
     "name": "stdout",
     "output_type": "stream",
     "text": [
      "100/100 [==============================] - 442s 4s/step - loss: 1.1922 - acc: 0.7384 - val_loss: 1.1249 - val_acc: 0.7322\n",
      "Epoch 3/10\n"
     ]
    },
    {
     "name": "stderr",
     "output_type": "stream",
     "text": [
      "/home/neelr/anaconda3/lib/python3.6/site-packages/keras/callbacks.py:526: RuntimeWarning: Early stopping conditioned on metric `accuracy` which is not available. Available metrics are: val_loss,val_acc,loss,acc,lr\n",
      "  (self.monitor, ','.join(list(logs.keys()))), RuntimeWarning\n"
     ]
    },
    {
     "name": "stdout",
     "output_type": "stream",
     "text": [
      "100/100 [==============================] - 268s 3s/step - loss: 0.7324 - acc: 0.7806 - val_loss: 1.5842 - val_acc: 0.6275\n",
      "Epoch 4/10\n",
      "100/100 [==============================] - 248s 2s/step - loss: 0.4101 - acc: 0.8669 - val_loss: 4.0786 - val_acc: 0.4617\n",
      "Epoch 5/10\n",
      "100/100 [==============================] - 254s 3s/step - loss: 0.4833 - acc: 0.8736 - val_loss: 2.3168 - val_acc: 0.5021\n",
      "Epoch 6/10\n",
      "100/100 [==============================] - 262s 3s/step - loss: 0.2411 - acc: 0.9196 - val_loss: 2.0919 - val_acc: 0.5192\n",
      "Epoch 7/10\n",
      "100/100 [==============================] - 264s 3s/step - loss: 0.3104 - acc: 0.9108 - val_loss: 2.9323 - val_acc: 0.5697\n",
      "Epoch 8/10\n",
      "100/100 [==============================] - 240s 2s/step - loss: 0.2828 - acc: 0.9173 - val_loss: 2.4788 - val_acc: 0.6148\n",
      "Epoch 9/10\n",
      "100/100 [==============================] - 232s 2s/step - loss: 0.2784 - acc: 0.9186 - val_loss: 3.2861 - val_acc: 0.5428\n",
      "Epoch 10/10\n",
      "100/100 [==============================] - 231s 2s/step - loss: 0.2206 - acc: 0.9277 - val_loss: 1.7018 - val_acc: 0.7071\n"
     ]
    },
    {
     "data": {
      "text/plain": [
       "<keras.callbacks.History at 0x7ff7b5e730b8>"
      ]
     },
     "execution_count": 25,
     "metadata": {},
     "output_type": "execute_result"
    }
   ],
   "source": [
    "epochs = 10\n",
    "model2.fit_generator(generator=train_generator, epochs = 10, steps_per_epoch=100, callbacks=callbacks, verbose=1,\n",
    "                   validation_data=test_generator, validation_steps=50)"
   ]
  },
  {
   "cell_type": "code",
   "execution_count": 26,
   "metadata": {},
   "outputs": [
    {
     "name": "stdout",
     "output_type": "stream",
     "text": [
      "_________________________________________________________________\n",
      "Layer (type)                 Output Shape              Param #   \n",
      "=================================================================\n",
      "lstm_5 (LSTM)                (None, 15, 2048)          24977408  \n",
      "_________________________________________________________________\n",
      "lstm_6 (LSTM)                (None, 15, 2048)          33562624  \n",
      "_________________________________________________________________\n",
      "dense_6 (Dense)              (None, 15, 512)           1049088   \n",
      "_________________________________________________________________\n",
      "dropout_3 (Dropout)          (None, 15, 512)           0         \n",
      "_________________________________________________________________\n",
      "flatten_2 (Flatten)          (None, 7680)              0         \n",
      "_________________________________________________________________\n",
      "dense_7 (Dense)              (None, 9)                 69129     \n",
      "=================================================================\n",
      "Total params: 59,658,249\n",
      "Trainable params: 59,658,249\n",
      "Non-trainable params: 0\n",
      "_________________________________________________________________\n",
      "None\n"
     ]
    }
   ],
   "source": [
    "from keras.layers import Flatten, Dropout\n",
    "model3 = Sequential()\n",
    "model3.add(LSTM(2048, return_sequences=True, input_shape= (15, 1000), dropout=0.5))\n",
    "model3.add(LSTM(2048, return_sequences=True))\n",
    "model3.add(Dense(512, activation='relu'))\n",
    "model3.add(Dropout(0.5))\n",
    "model3.add(Flatten())\n",
    "model3.add(Dense(len(classes), activation='softmax'))\n",
    "model3.compile(loss = 'categorical_crossentropy', optimizer='adam',metrics=['accuracy'])\n",
    "print(model3.summary())"
   ]
  },
  {
   "cell_type": "code",
   "execution_count": 27,
   "metadata": {},
   "outputs": [
    {
     "name": "stdout",
     "output_type": "stream",
     "text": [
      "Epoch 1/10\n",
      "100/100 [==============================] - 547s 5s/step - loss: 1.6525 - acc: 0.5590 - val_loss: 1.5374 - val_acc: 0.4247\n",
      "Epoch 2/10\n"
     ]
    },
    {
     "name": "stderr",
     "output_type": "stream",
     "text": [
      "/home/neelr/anaconda3/lib/python3.6/site-packages/keras/callbacks.py:526: RuntimeWarning: Early stopping conditioned on metric `accuracy` which is not available. Available metrics are: val_loss,val_acc,loss,acc\n",
      "  (self.monitor, ','.join(list(logs.keys()))), RuntimeWarning\n",
      "/home/neelr/anaconda3/lib/python3.6/site-packages/keras/callbacks.py:958: RuntimeWarning: Reduce LR on plateau conditioned on metric `accuracy` which is not available. Available metrics are: val_loss,val_acc,loss,acc,lr\n",
      "  (self.monitor, ','.join(list(logs.keys()))), RuntimeWarning\n"
     ]
    },
    {
     "name": "stdout",
     "output_type": "stream",
     "text": [
      "100/100 [==============================] - 543s 5s/step - loss: 1.1376 - acc: 0.6180 - val_loss: 1.7569 - val_acc: 0.4099\n",
      "Epoch 3/10\n"
     ]
    },
    {
     "name": "stderr",
     "output_type": "stream",
     "text": [
      "/home/neelr/anaconda3/lib/python3.6/site-packages/keras/callbacks.py:526: RuntimeWarning: Early stopping conditioned on metric `accuracy` which is not available. Available metrics are: val_loss,val_acc,loss,acc,lr\n",
      "  (self.monitor, ','.join(list(logs.keys()))), RuntimeWarning\n"
     ]
    },
    {
     "name": "stdout",
     "output_type": "stream",
     "text": [
      "100/100 [==============================] - 543s 5s/step - loss: 0.6685 - acc: 0.8006 - val_loss: 2.5745 - val_acc: 0.5122\n",
      "Epoch 4/10\n",
      "100/100 [==============================] - 549s 5s/step - loss: 0.7193 - acc: 0.7918 - val_loss: 1.9346 - val_acc: 0.4742\n",
      "Epoch 5/10\n",
      "100/100 [==============================] - 548s 5s/step - loss: 0.5103 - acc: 0.8503 - val_loss: 1.9982 - val_acc: 0.5487\n",
      "Epoch 6/10\n",
      "100/100 [==============================] - 560s 6s/step - loss: 0.5369 - acc: 0.8276 - val_loss: 2.9626 - val_acc: 0.6286\n",
      "Epoch 7/10\n",
      "100/100 [==============================] - 562s 6s/step - loss: 0.5289 - acc: 0.8419 - val_loss: 4.6216 - val_acc: 0.5222\n",
      "Epoch 8/10\n",
      "100/100 [==============================] - 553s 6s/step - loss: 0.2436 - acc: 0.9211 - val_loss: 3.6618 - val_acc: 0.5388\n",
      "Epoch 9/10\n",
      "100/100 [==============================] - 553s 6s/step - loss: 0.1776 - acc: 0.9518 - val_loss: 3.9813 - val_acc: 0.5658\n",
      "Epoch 10/10\n",
      "100/100 [==============================] - 549s 5s/step - loss: 0.2362 - acc: 0.9215 - val_loss: 2.0700 - val_acc: 0.8067\n"
     ]
    },
    {
     "data": {
      "text/plain": [
       "<keras.callbacks.History at 0x7ff7de6fd7f0>"
      ]
     },
     "execution_count": 27,
     "metadata": {},
     "output_type": "execute_result"
    }
   ],
   "source": [
    "epochs = 10\n",
    "model3.fit_generator(generator=train_generator, epochs = 10, steps_per_epoch=100, callbacks=callbacks, verbose=1,\n",
    "                   validation_data=test_generator, validation_steps=50)"
   ]
  },
  {
   "cell_type": "code",
   "execution_count": 30,
   "metadata": {},
   "outputs": [],
   "source": [
    "model.save('model3.h5')"
   ]
  },
  {
   "cell_type": "code",
   "execution_count": 28,
   "metadata": {},
   "outputs": [
    {
     "name": "stdout",
     "output_type": "stream",
     "text": [
      "_________________________________________________________________\n",
      "Layer (type)                 Output Shape              Param #   \n",
      "=================================================================\n",
      "lstm_7 (LSTM)                (None, 15, 2048)          24977408  \n",
      "_________________________________________________________________\n",
      "lstm_8 (LSTM)                (None, 15, 2048)          33562624  \n",
      "_________________________________________________________________\n",
      "dense_8 (Dense)              (None, 15, 512)           1049088   \n",
      "_________________________________________________________________\n",
      "dropout_4 (Dropout)          (None, 15, 512)           0         \n",
      "_________________________________________________________________\n",
      "flatten_3 (Flatten)          (None, 7680)              0         \n",
      "_________________________________________________________________\n",
      "dense_9 (Dense)              (None, 9)                 69129     \n",
      "=================================================================\n",
      "Total params: 59,658,249\n",
      "Trainable params: 59,658,249\n",
      "Non-trainable params: 0\n",
      "_________________________________________________________________\n",
      "None\n"
     ]
    }
   ],
   "source": [
    "from keras.layers import Flatten, Dropout\n",
    "model4 = Sequential()\n",
    "model4.add(LSTM(2048, return_sequences=True, input_shape= (15, 1000), dropout=0.5))\n",
    "model4.add(LSTM(2048, return_sequences=True))\n",
    "model4.add(Dense(512, activation='relu'))\n",
    "model4.add(Dropout(0.5))\n",
    "model4.add(Flatten())\n",
    "model4.add(Dense(len(classes), activation='softmax'))\n",
    "model4.compile(loss = 'categorical_crossentropy', optimizer='adam',metrics=['accuracy'])\n",
    "print(model4.summary())"
   ]
  },
  {
   "cell_type": "code",
   "execution_count": 29,
   "metadata": {},
   "outputs": [
    {
     "name": "stdout",
     "output_type": "stream",
     "text": [
      "Epoch 1/20\n",
      " 17/100 [====>.........................] - ETA: 6:21 - loss: 1.9119 - acc: 0.4065"
     ]
    },
    {
     "ename": "KeyboardInterrupt",
     "evalue": "",
     "output_type": "error",
     "traceback": [
      "\u001b[0;31m---------------------------------------------------------------------------\u001b[0m",
      "\u001b[0;31mKeyboardInterrupt\u001b[0m                         Traceback (most recent call last)",
      "\u001b[0;32m<ipython-input-29-1e988550bd1a>\u001b[0m in \u001b[0;36m<module>\u001b[0;34m()\u001b[0m\n\u001b[1;32m      1\u001b[0m model4.fit_generator(generator=train_generator, epochs = 20, steps_per_epoch=100, callbacks=callbacks, verbose=1,\n\u001b[0;32m----> 2\u001b[0;31m                    validation_data=test_generator, validation_steps=50)\n\u001b[0m",
      "\u001b[0;32m~/anaconda3/lib/python3.6/site-packages/keras/legacy/interfaces.py\u001b[0m in \u001b[0;36mwrapper\u001b[0;34m(*args, **kwargs)\u001b[0m\n\u001b[1;32m     89\u001b[0m                 warnings.warn('Update your `' + object_name +\n\u001b[1;32m     90\u001b[0m                               '` call to the Keras 2 API: ' + signature, stacklevel=2)\n\u001b[0;32m---> 91\u001b[0;31m             \u001b[0;32mreturn\u001b[0m \u001b[0mfunc\u001b[0m\u001b[0;34m(\u001b[0m\u001b[0;34m*\u001b[0m\u001b[0margs\u001b[0m\u001b[0;34m,\u001b[0m \u001b[0;34m**\u001b[0m\u001b[0mkwargs\u001b[0m\u001b[0;34m)\u001b[0m\u001b[0;34m\u001b[0m\u001b[0m\n\u001b[0m\u001b[1;32m     92\u001b[0m         \u001b[0mwrapper\u001b[0m\u001b[0;34m.\u001b[0m\u001b[0m_original_function\u001b[0m \u001b[0;34m=\u001b[0m \u001b[0mfunc\u001b[0m\u001b[0;34m\u001b[0m\u001b[0m\n\u001b[1;32m     93\u001b[0m         \u001b[0;32mreturn\u001b[0m \u001b[0mwrapper\u001b[0m\u001b[0;34m\u001b[0m\u001b[0m\n",
      "\u001b[0;32m~/anaconda3/lib/python3.6/site-packages/keras/models.py\u001b[0m in \u001b[0;36mfit_generator\u001b[0;34m(self, generator, steps_per_epoch, epochs, verbose, callbacks, validation_data, validation_steps, class_weight, max_queue_size, workers, use_multiprocessing, shuffle, initial_epoch)\u001b[0m\n\u001b[1;32m   1274\u001b[0m                                         \u001b[0muse_multiprocessing\u001b[0m\u001b[0;34m=\u001b[0m\u001b[0muse_multiprocessing\u001b[0m\u001b[0;34m,\u001b[0m\u001b[0;34m\u001b[0m\u001b[0m\n\u001b[1;32m   1275\u001b[0m                                         \u001b[0mshuffle\u001b[0m\u001b[0;34m=\u001b[0m\u001b[0mshuffle\u001b[0m\u001b[0;34m,\u001b[0m\u001b[0;34m\u001b[0m\u001b[0m\n\u001b[0;32m-> 1276\u001b[0;31m                                         initial_epoch=initial_epoch)\n\u001b[0m\u001b[1;32m   1277\u001b[0m \u001b[0;34m\u001b[0m\u001b[0m\n\u001b[1;32m   1278\u001b[0m     \u001b[0;34m@\u001b[0m\u001b[0minterfaces\u001b[0m\u001b[0;34m.\u001b[0m\u001b[0mlegacy_generator_methods_support\u001b[0m\u001b[0;34m\u001b[0m\u001b[0m\n",
      "\u001b[0;32m~/anaconda3/lib/python3.6/site-packages/keras/legacy/interfaces.py\u001b[0m in \u001b[0;36mwrapper\u001b[0;34m(*args, **kwargs)\u001b[0m\n\u001b[1;32m     89\u001b[0m                 warnings.warn('Update your `' + object_name +\n\u001b[1;32m     90\u001b[0m                               '` call to the Keras 2 API: ' + signature, stacklevel=2)\n\u001b[0;32m---> 91\u001b[0;31m             \u001b[0;32mreturn\u001b[0m \u001b[0mfunc\u001b[0m\u001b[0;34m(\u001b[0m\u001b[0;34m*\u001b[0m\u001b[0margs\u001b[0m\u001b[0;34m,\u001b[0m \u001b[0;34m**\u001b[0m\u001b[0mkwargs\u001b[0m\u001b[0;34m)\u001b[0m\u001b[0;34m\u001b[0m\u001b[0m\n\u001b[0m\u001b[1;32m     92\u001b[0m         \u001b[0mwrapper\u001b[0m\u001b[0;34m.\u001b[0m\u001b[0m_original_function\u001b[0m \u001b[0;34m=\u001b[0m \u001b[0mfunc\u001b[0m\u001b[0;34m\u001b[0m\u001b[0m\n\u001b[1;32m     93\u001b[0m         \u001b[0;32mreturn\u001b[0m \u001b[0mwrapper\u001b[0m\u001b[0;34m\u001b[0m\u001b[0m\n",
      "\u001b[0;32m~/anaconda3/lib/python3.6/site-packages/keras/engine/training.py\u001b[0m in \u001b[0;36mfit_generator\u001b[0;34m(self, generator, steps_per_epoch, epochs, verbose, callbacks, validation_data, validation_steps, class_weight, max_queue_size, workers, use_multiprocessing, shuffle, initial_epoch)\u001b[0m\n\u001b[1;32m   2222\u001b[0m                     outs = self.train_on_batch(x, y,\n\u001b[1;32m   2223\u001b[0m                                                \u001b[0msample_weight\u001b[0m\u001b[0;34m=\u001b[0m\u001b[0msample_weight\u001b[0m\u001b[0;34m,\u001b[0m\u001b[0;34m\u001b[0m\u001b[0m\n\u001b[0;32m-> 2224\u001b[0;31m                                                class_weight=class_weight)\n\u001b[0m\u001b[1;32m   2225\u001b[0m \u001b[0;34m\u001b[0m\u001b[0m\n\u001b[1;32m   2226\u001b[0m                     \u001b[0;32mif\u001b[0m \u001b[0;32mnot\u001b[0m \u001b[0misinstance\u001b[0m\u001b[0;34m(\u001b[0m\u001b[0mouts\u001b[0m\u001b[0;34m,\u001b[0m \u001b[0mlist\u001b[0m\u001b[0;34m)\u001b[0m\u001b[0;34m:\u001b[0m\u001b[0;34m\u001b[0m\u001b[0m\n",
      "\u001b[0;32m~/anaconda3/lib/python3.6/site-packages/keras/engine/training.py\u001b[0m in \u001b[0;36mtrain_on_batch\u001b[0;34m(self, x, y, sample_weight, class_weight)\u001b[0m\n\u001b[1;32m   1881\u001b[0m             \u001b[0mins\u001b[0m \u001b[0;34m=\u001b[0m \u001b[0mx\u001b[0m \u001b[0;34m+\u001b[0m \u001b[0my\u001b[0m \u001b[0;34m+\u001b[0m \u001b[0msample_weights\u001b[0m\u001b[0;34m\u001b[0m\u001b[0m\n\u001b[1;32m   1882\u001b[0m         \u001b[0mself\u001b[0m\u001b[0;34m.\u001b[0m\u001b[0m_make_train_function\u001b[0m\u001b[0;34m(\u001b[0m\u001b[0;34m)\u001b[0m\u001b[0;34m\u001b[0m\u001b[0m\n\u001b[0;32m-> 1883\u001b[0;31m         \u001b[0moutputs\u001b[0m \u001b[0;34m=\u001b[0m \u001b[0mself\u001b[0m\u001b[0;34m.\u001b[0m\u001b[0mtrain_function\u001b[0m\u001b[0;34m(\u001b[0m\u001b[0mins\u001b[0m\u001b[0;34m)\u001b[0m\u001b[0;34m\u001b[0m\u001b[0m\n\u001b[0m\u001b[1;32m   1884\u001b[0m         \u001b[0;32mif\u001b[0m \u001b[0mlen\u001b[0m\u001b[0;34m(\u001b[0m\u001b[0moutputs\u001b[0m\u001b[0;34m)\u001b[0m \u001b[0;34m==\u001b[0m \u001b[0;36m1\u001b[0m\u001b[0;34m:\u001b[0m\u001b[0;34m\u001b[0m\u001b[0m\n\u001b[1;32m   1885\u001b[0m             \u001b[0;32mreturn\u001b[0m \u001b[0moutputs\u001b[0m\u001b[0;34m[\u001b[0m\u001b[0;36m0\u001b[0m\u001b[0;34m]\u001b[0m\u001b[0;34m\u001b[0m\u001b[0m\n",
      "\u001b[0;32m~/anaconda3/lib/python3.6/site-packages/keras/backend/tensorflow_backend.py\u001b[0m in \u001b[0;36m__call__\u001b[0;34m(self, inputs)\u001b[0m\n\u001b[1;32m   2476\u001b[0m         \u001b[0msession\u001b[0m \u001b[0;34m=\u001b[0m \u001b[0mget_session\u001b[0m\u001b[0;34m(\u001b[0m\u001b[0;34m)\u001b[0m\u001b[0;34m\u001b[0m\u001b[0m\n\u001b[1;32m   2477\u001b[0m         updated = session.run(fetches=fetches, feed_dict=feed_dict,\n\u001b[0;32m-> 2478\u001b[0;31m                               **self.session_kwargs)\n\u001b[0m\u001b[1;32m   2479\u001b[0m         \u001b[0;32mreturn\u001b[0m \u001b[0mupdated\u001b[0m\u001b[0;34m[\u001b[0m\u001b[0;34m:\u001b[0m\u001b[0mlen\u001b[0m\u001b[0;34m(\u001b[0m\u001b[0mself\u001b[0m\u001b[0;34m.\u001b[0m\u001b[0moutputs\u001b[0m\u001b[0;34m)\u001b[0m\u001b[0;34m]\u001b[0m\u001b[0;34m\u001b[0m\u001b[0m\n\u001b[1;32m   2480\u001b[0m \u001b[0;34m\u001b[0m\u001b[0m\n",
      "\u001b[0;32m~/anaconda3/lib/python3.6/site-packages/tensorflow/python/client/session.py\u001b[0m in \u001b[0;36mrun\u001b[0;34m(self, fetches, feed_dict, options, run_metadata)\u001b[0m\n\u001b[1;32m    903\u001b[0m     \u001b[0;32mtry\u001b[0m\u001b[0;34m:\u001b[0m\u001b[0;34m\u001b[0m\u001b[0m\n\u001b[1;32m    904\u001b[0m       result = self._run(None, fetches, feed_dict, options_ptr,\n\u001b[0;32m--> 905\u001b[0;31m                          run_metadata_ptr)\n\u001b[0m\u001b[1;32m    906\u001b[0m       \u001b[0;32mif\u001b[0m \u001b[0mrun_metadata\u001b[0m\u001b[0;34m:\u001b[0m\u001b[0;34m\u001b[0m\u001b[0m\n\u001b[1;32m    907\u001b[0m         \u001b[0mproto_data\u001b[0m \u001b[0;34m=\u001b[0m \u001b[0mtf_session\u001b[0m\u001b[0;34m.\u001b[0m\u001b[0mTF_GetBuffer\u001b[0m\u001b[0;34m(\u001b[0m\u001b[0mrun_metadata_ptr\u001b[0m\u001b[0;34m)\u001b[0m\u001b[0;34m\u001b[0m\u001b[0m\n",
      "\u001b[0;32m~/anaconda3/lib/python3.6/site-packages/tensorflow/python/client/session.py\u001b[0m in \u001b[0;36m_run\u001b[0;34m(self, handle, fetches, feed_dict, options, run_metadata)\u001b[0m\n\u001b[1;32m   1135\u001b[0m     \u001b[0;32mif\u001b[0m \u001b[0mfinal_fetches\u001b[0m \u001b[0;32mor\u001b[0m \u001b[0mfinal_targets\u001b[0m \u001b[0;32mor\u001b[0m \u001b[0;34m(\u001b[0m\u001b[0mhandle\u001b[0m \u001b[0;32mand\u001b[0m \u001b[0mfeed_dict_tensor\u001b[0m\u001b[0;34m)\u001b[0m\u001b[0;34m:\u001b[0m\u001b[0;34m\u001b[0m\u001b[0m\n\u001b[1;32m   1136\u001b[0m       results = self._do_run(handle, final_targets, final_fetches,\n\u001b[0;32m-> 1137\u001b[0;31m                              feed_dict_tensor, options, run_metadata)\n\u001b[0m\u001b[1;32m   1138\u001b[0m     \u001b[0;32melse\u001b[0m\u001b[0;34m:\u001b[0m\u001b[0;34m\u001b[0m\u001b[0m\n\u001b[1;32m   1139\u001b[0m       \u001b[0mresults\u001b[0m \u001b[0;34m=\u001b[0m \u001b[0;34m[\u001b[0m\u001b[0;34m]\u001b[0m\u001b[0;34m\u001b[0m\u001b[0m\n",
      "\u001b[0;32m~/anaconda3/lib/python3.6/site-packages/tensorflow/python/client/session.py\u001b[0m in \u001b[0;36m_do_run\u001b[0;34m(self, handle, target_list, fetch_list, feed_dict, options, run_metadata)\u001b[0m\n\u001b[1;32m   1353\u001b[0m     \u001b[0;32mif\u001b[0m \u001b[0mhandle\u001b[0m \u001b[0;32mis\u001b[0m \u001b[0;32mNone\u001b[0m\u001b[0;34m:\u001b[0m\u001b[0;34m\u001b[0m\u001b[0m\n\u001b[1;32m   1354\u001b[0m       return self._do_call(_run_fn, self._session, feeds, fetches, targets,\n\u001b[0;32m-> 1355\u001b[0;31m                            options, run_metadata)\n\u001b[0m\u001b[1;32m   1356\u001b[0m     \u001b[0;32melse\u001b[0m\u001b[0;34m:\u001b[0m\u001b[0;34m\u001b[0m\u001b[0m\n\u001b[1;32m   1357\u001b[0m       \u001b[0;32mreturn\u001b[0m \u001b[0mself\u001b[0m\u001b[0;34m.\u001b[0m\u001b[0m_do_call\u001b[0m\u001b[0;34m(\u001b[0m\u001b[0m_prun_fn\u001b[0m\u001b[0;34m,\u001b[0m \u001b[0mself\u001b[0m\u001b[0;34m.\u001b[0m\u001b[0m_session\u001b[0m\u001b[0;34m,\u001b[0m \u001b[0mhandle\u001b[0m\u001b[0;34m,\u001b[0m \u001b[0mfeeds\u001b[0m\u001b[0;34m,\u001b[0m \u001b[0mfetches\u001b[0m\u001b[0;34m)\u001b[0m\u001b[0;34m\u001b[0m\u001b[0m\n",
      "\u001b[0;32m~/anaconda3/lib/python3.6/site-packages/tensorflow/python/client/session.py\u001b[0m in \u001b[0;36m_do_call\u001b[0;34m(self, fn, *args)\u001b[0m\n\u001b[1;32m   1359\u001b[0m   \u001b[0;32mdef\u001b[0m \u001b[0m_do_call\u001b[0m\u001b[0;34m(\u001b[0m\u001b[0mself\u001b[0m\u001b[0;34m,\u001b[0m \u001b[0mfn\u001b[0m\u001b[0;34m,\u001b[0m \u001b[0;34m*\u001b[0m\u001b[0margs\u001b[0m\u001b[0;34m)\u001b[0m\u001b[0;34m:\u001b[0m\u001b[0;34m\u001b[0m\u001b[0m\n\u001b[1;32m   1360\u001b[0m     \u001b[0;32mtry\u001b[0m\u001b[0;34m:\u001b[0m\u001b[0;34m\u001b[0m\u001b[0m\n\u001b[0;32m-> 1361\u001b[0;31m       \u001b[0;32mreturn\u001b[0m \u001b[0mfn\u001b[0m\u001b[0;34m(\u001b[0m\u001b[0;34m*\u001b[0m\u001b[0margs\u001b[0m\u001b[0;34m)\u001b[0m\u001b[0;34m\u001b[0m\u001b[0m\n\u001b[0m\u001b[1;32m   1362\u001b[0m     \u001b[0;32mexcept\u001b[0m \u001b[0merrors\u001b[0m\u001b[0;34m.\u001b[0m\u001b[0mOpError\u001b[0m \u001b[0;32mas\u001b[0m \u001b[0me\u001b[0m\u001b[0;34m:\u001b[0m\u001b[0;34m\u001b[0m\u001b[0m\n\u001b[1;32m   1363\u001b[0m       \u001b[0mmessage\u001b[0m \u001b[0;34m=\u001b[0m \u001b[0mcompat\u001b[0m\u001b[0;34m.\u001b[0m\u001b[0mas_text\u001b[0m\u001b[0;34m(\u001b[0m\u001b[0me\u001b[0m\u001b[0;34m.\u001b[0m\u001b[0mmessage\u001b[0m\u001b[0;34m)\u001b[0m\u001b[0;34m\u001b[0m\u001b[0m\n",
      "\u001b[0;32m~/anaconda3/lib/python3.6/site-packages/tensorflow/python/client/session.py\u001b[0m in \u001b[0;36m_run_fn\u001b[0;34m(session, feed_dict, fetch_list, target_list, options, run_metadata)\u001b[0m\n\u001b[1;32m   1338\u001b[0m         \u001b[0;32melse\u001b[0m\u001b[0;34m:\u001b[0m\u001b[0;34m\u001b[0m\u001b[0m\n\u001b[1;32m   1339\u001b[0m           return tf_session.TF_Run(session, options, feed_dict, fetch_list,\n\u001b[0;32m-> 1340\u001b[0;31m                                    target_list, status, run_metadata)\n\u001b[0m\u001b[1;32m   1341\u001b[0m \u001b[0;34m\u001b[0m\u001b[0m\n\u001b[1;32m   1342\u001b[0m     \u001b[0;32mdef\u001b[0m \u001b[0m_prun_fn\u001b[0m\u001b[0;34m(\u001b[0m\u001b[0msession\u001b[0m\u001b[0;34m,\u001b[0m \u001b[0mhandle\u001b[0m\u001b[0;34m,\u001b[0m \u001b[0mfeed_dict\u001b[0m\u001b[0;34m,\u001b[0m \u001b[0mfetch_list\u001b[0m\u001b[0;34m)\u001b[0m\u001b[0;34m:\u001b[0m\u001b[0;34m\u001b[0m\u001b[0m\n",
      "\u001b[0;31mKeyboardInterrupt\u001b[0m: "
     ]
    }
   ],
   "source": [
    "model4.fit_generator(generator=train_generator, epochs = 20, steps_per_epoch=100, callbacks=callbacks, verbose=1,\n",
    "                   validation_data=test_generator, validation_steps=50)"
   ]
  },
  {
   "cell_type": "code",
   "execution_count": 19,
   "metadata": {},
   "outputs": [
    {
     "name": "stdout",
     "output_type": "stream",
     "text": [
      "_________________________________________________________________\n",
      "Layer (type)                 Output Shape              Param #   \n",
      "=================================================================\n",
      "lstm_3 (LSTM)                (None, 20, 128)           578048    \n",
      "_________________________________________________________________\n",
      "lstm_4 (LSTM)                (None, 20, 128)           131584    \n",
      "_________________________________________________________________\n",
      "dense_3 (Dense)              (None, 20, 100)           12900     \n",
      "_________________________________________________________________\n",
      "dropout_2 (Dropout)          (None, 20, 100)           0         \n",
      "_________________________________________________________________\n",
      "flatten_2 (Flatten)          (None, 2000)              0         \n",
      "_________________________________________________________________\n",
      "dense_4 (Dense)              (None, 9)                 18009     \n",
      "=================================================================\n",
      "Total params: 740,541\n",
      "Trainable params: 740,541\n",
      "Non-trainable params: 0\n",
      "_________________________________________________________________\n",
      "None\n"
     ]
    }
   ],
   "source": [
    "from keras.layers import Flatten, Dropout\n",
    "model5 = Sequential()\n",
    "model5.add(LSTM(128, return_sequences=True, input_shape= (frames_considered, 1000), dropout=0.5))\n",
    "model5.add(LSTM(128, return_sequences=True))\n",
    "model5.add(Dense(100, activation='relu'))\n",
    "model5.add(Dropout(0.5))\n",
    "model5.add(Flatten())\n",
    "model5.add(Dense(len(classes), activation='softmax'))\n",
    "model5.compile(loss = 'categorical_crossentropy', optimizer='adam',metrics=['accuracy'])\n",
    "print(model5.summary())"
   ]
  },
  {
   "cell_type": "code",
   "execution_count": 20,
   "metadata": {},
   "outputs": [
    {
     "name": "stdout",
     "output_type": "stream",
     "text": [
      "Epoch 1/20\n",
      "100/100 [==============================] - 11s 113ms/step - loss: 1.6563 - acc: 0.4707 - val_loss: 2.1385 - val_acc: 0.4664\n",
      "Epoch 2/20\n",
      "  1/100 [..............................] - ETA: 5s - loss: 0.7004 - acc: 0.8000"
     ]
    },
    {
     "name": "stderr",
     "output_type": "stream",
     "text": [
      "/home/neelr/anaconda3/lib/python3.6/site-packages/keras/callbacks.py:526: RuntimeWarning: Early stopping conditioned on metric `accuracy` which is not available. Available metrics are: val_loss,val_acc,loss,acc\n",
      "  (self.monitor, ','.join(list(logs.keys()))), RuntimeWarning\n",
      "/home/neelr/anaconda3/lib/python3.6/site-packages/keras/callbacks.py:958: RuntimeWarning: Reduce LR on plateau conditioned on metric `accuracy` which is not available. Available metrics are: val_loss,val_acc,loss,acc,lr\n",
      "  (self.monitor, ','.join(list(logs.keys()))), RuntimeWarning\n"
     ]
    },
    {
     "name": "stdout",
     "output_type": "stream",
     "text": [
      "100/100 [==============================] - 9s 92ms/step - loss: 1.0958 - acc: 0.6512 - val_loss: 2.1781 - val_acc: 0.5046\n",
      "Epoch 3/20\n",
      "  2/100 [..............................] - ETA: 7s - loss: 0.3944 - acc: 0.8944"
     ]
    },
    {
     "name": "stderr",
     "output_type": "stream",
     "text": [
      "/home/neelr/anaconda3/lib/python3.6/site-packages/keras/callbacks.py:526: RuntimeWarning: Early stopping conditioned on metric `accuracy` which is not available. Available metrics are: val_loss,val_acc,loss,acc,lr\n",
      "  (self.monitor, ','.join(list(logs.keys()))), RuntimeWarning\n"
     ]
    },
    {
     "name": "stdout",
     "output_type": "stream",
     "text": [
      "100/100 [==============================] - 9s 93ms/step - loss: 0.9230 - acc: 0.6938 - val_loss: 1.6407 - val_acc: 0.6449\n",
      "Epoch 4/20\n",
      "100/100 [==============================] - 10s 99ms/step - loss: 0.5394 - acc: 0.8371 - val_loss: 1.6138 - val_acc: 0.6874\n",
      "Epoch 5/20\n",
      "100/100 [==============================] - 10s 100ms/step - loss: 0.3489 - acc: 0.8881 - val_loss: 1.8025 - val_acc: 0.7205\n",
      "Epoch 6/20\n",
      "100/100 [==============================] - 11s 107ms/step - loss: 0.3221 - acc: 0.9056 - val_loss: 1.3738 - val_acc: 0.7902\n",
      "Epoch 7/20\n",
      "100/100 [==============================] - 11s 109ms/step - loss: 0.2267 - acc: 0.9267 - val_loss: 1.8170 - val_acc: 0.7414\n",
      "Epoch 8/20\n",
      "100/100 [==============================] - 11s 109ms/step - loss: 0.3751 - acc: 0.8893 - val_loss: 1.6296 - val_acc: 0.7601\n",
      "Epoch 9/20\n",
      "100/100 [==============================] - 11s 106ms/step - loss: 0.2378 - acc: 0.9257 - val_loss: 2.1758 - val_acc: 0.7196\n",
      "Epoch 10/20\n",
      "100/100 [==============================] - 11s 106ms/step - loss: 0.2301 - acc: 0.9328 - val_loss: 1.8386 - val_acc: 0.7974\n",
      "Epoch 11/20\n",
      "100/100 [==============================] - 11s 110ms/step - loss: 0.2250 - acc: 0.9242 - val_loss: 2.4928 - val_acc: 0.6597\n",
      "Epoch 12/20\n",
      "100/100 [==============================] - 11s 109ms/step - loss: 0.1787 - acc: 0.9543 - val_loss: 1.7434 - val_acc: 0.6863\n",
      "Epoch 13/20\n",
      "100/100 [==============================] - 11s 111ms/step - loss: 0.1664 - acc: 0.9466 - val_loss: 3.2098 - val_acc: 0.7096\n",
      "Epoch 14/20\n",
      "100/100 [==============================] - 11s 112ms/step - loss: 0.1441 - acc: 0.9517 - val_loss: 3.0830 - val_acc: 0.6568\n",
      "Epoch 15/20\n",
      "100/100 [==============================] - 11s 110ms/step - loss: 0.2639 - acc: 0.9099 - val_loss: 2.9666 - val_acc: 0.6394\n",
      "Epoch 16/20\n",
      "100/100 [==============================] - 11s 111ms/step - loss: 0.0736 - acc: 0.9706 - val_loss: 2.2796 - val_acc: 0.7419\n",
      "Epoch 17/20\n",
      "100/100 [==============================] - 11s 110ms/step - loss: 0.5500 - acc: 0.8982 - val_loss: 3.8631 - val_acc: 0.6052\n",
      "Epoch 18/20\n",
      "100/100 [==============================] - 11s 107ms/step - loss: 0.5050 - acc: 0.8912 - val_loss: 1.1983 - val_acc: 0.8132\n",
      "Epoch 19/20\n",
      "100/100 [==============================] - 11s 111ms/step - loss: 0.1087 - acc: 0.9628 - val_loss: 3.0033 - val_acc: 0.6868\n",
      "Epoch 20/20\n",
      "100/100 [==============================] - 11s 111ms/step - loss: 0.0690 - acc: 0.9800 - val_loss: 2.7085 - val_acc: 0.7278\n"
     ]
    },
    {
     "data": {
      "text/plain": [
       "<keras.callbacks.History at 0x7faafa2af9b0>"
      ]
     },
     "execution_count": 20,
     "metadata": {},
     "output_type": "execute_result"
    }
   ],
   "source": [
    "model5.fit_generator(generator=train_generator, epochs = 20, steps_per_epoch=100, callbacks=callbacks, verbose=1,\n",
    "                   validation_data=test_generator, validation_steps=50)"
   ]
  },
  {
   "cell_type": "code",
   "execution_count": 21,
   "metadata": {},
   "outputs": [],
   "source": [
    "#model.save('model.h5')\n",
    "#model1.save('model1.h5')\n",
    "#model2.save('model2.h5')\n",
    "#model3.save('model3.h5')\n",
    "#model4.save('model4.h5')\n",
    "model5.save('model5new.h5')"
   ]
  },
  {
   "cell_type": "code",
   "execution_count": 24,
   "metadata": {},
   "outputs": [
    {
     "name": "stdout",
     "output_type": "stream",
     "text": [
      "_________________________________________________________________\n",
      "Layer (type)                 Output Shape              Param #   \n",
      "=================================================================\n",
      "lstm_7 (LSTM)                (None, 20, 100)           440400    \n",
      "_________________________________________________________________\n",
      "lstm_8 (LSTM)                (None, 20, 100)           80400     \n",
      "_________________________________________________________________\n",
      "dense_7 (Dense)              (None, 20, 100)           10100     \n",
      "_________________________________________________________________\n",
      "dropout_4 (Dropout)          (None, 20, 100)           0         \n",
      "_________________________________________________________________\n",
      "flatten_4 (Flatten)          (None, 2000)              0         \n",
      "_________________________________________________________________\n",
      "dense_8 (Dense)              (None, 9)                 18009     \n",
      "=================================================================\n",
      "Total params: 548,909\n",
      "Trainable params: 548,909\n",
      "Non-trainable params: 0\n",
      "_________________________________________________________________\n",
      "None\n"
     ]
    }
   ],
   "source": [
    "from keras.layers import Flatten, Dropout\n",
    "model6 = Sequential()\n",
    "model6.add(LSTM(100, return_sequences=True, input_shape= (frames_considered, 1000), dropout=0.5))\n",
    "model6.add(LSTM(100, return_sequences=True))\n",
    "model6.add(Dense(100, activation='relu'))\n",
    "model6.add(Dropout(0.5))\n",
    "model6.add(Flatten())\n",
    "model6.add(Dense(len(classes), activation='softmax'))\n",
    "model6.compile(loss = 'categorical_crossentropy', optimizer='adam',metrics=['accuracy'])\n",
    "print(model6.summary())"
   ]
  },
  {
   "cell_type": "code",
   "execution_count": 25,
   "metadata": {},
   "outputs": [
    {
     "name": "stdout",
     "output_type": "stream",
     "text": [
      "Epoch 1/20\n",
      "100/100 [==============================] - 10s 98ms/step - loss: 1.4899 - acc: 0.4834 - val_loss: 1.6642 - val_acc: 0.5504\n",
      "Epoch 2/20\n",
      "  1/100 [..............................] - ETA: 4s - loss: 1.3052 - acc: 0.5556"
     ]
    },
    {
     "name": "stderr",
     "output_type": "stream",
     "text": [
      "/home/neelr/anaconda3/lib/python3.6/site-packages/keras/callbacks.py:526: RuntimeWarning: Early stopping conditioned on metric `accuracy` which is not available. Available metrics are: val_loss,val_acc,loss,acc\n",
      "  (self.monitor, ','.join(list(logs.keys()))), RuntimeWarning\n",
      "/home/neelr/anaconda3/lib/python3.6/site-packages/keras/callbacks.py:958: RuntimeWarning: Reduce LR on plateau conditioned on metric `accuracy` which is not available. Available metrics are: val_loss,val_acc,loss,acc,lr\n",
      "  (self.monitor, ','.join(list(logs.keys()))), RuntimeWarning\n"
     ]
    },
    {
     "name": "stdout",
     "output_type": "stream",
     "text": [
      "100/100 [==============================] - 8s 84ms/step - loss: 1.0380 - acc: 0.6845 - val_loss: 1.3860 - val_acc: 0.6276\n",
      "Epoch 3/20\n",
      "  2/100 [..............................] - ETA: 7s - loss: 0.2106 - acc: 0.9615"
     ]
    },
    {
     "name": "stderr",
     "output_type": "stream",
     "text": [
      "/home/neelr/anaconda3/lib/python3.6/site-packages/keras/callbacks.py:526: RuntimeWarning: Early stopping conditioned on metric `accuracy` which is not available. Available metrics are: val_loss,val_acc,loss,acc,lr\n",
      "  (self.monitor, ','.join(list(logs.keys()))), RuntimeWarning\n"
     ]
    },
    {
     "name": "stdout",
     "output_type": "stream",
     "text": [
      "100/100 [==============================] - 9s 88ms/step - loss: 0.8739 - acc: 0.7262 - val_loss: 1.4569 - val_acc: 0.7491\n",
      "Epoch 4/20\n",
      "100/100 [==============================] - 10s 96ms/step - loss: 0.4927 - acc: 0.8527 - val_loss: 1.1972 - val_acc: 0.7371\n",
      "Epoch 5/20\n",
      "100/100 [==============================] - 10s 101ms/step - loss: 0.5129 - acc: 0.8232 - val_loss: 1.0416 - val_acc: 0.6424\n",
      "Epoch 6/20\n",
      "100/100 [==============================] - 10s 98ms/step - loss: 0.3570 - acc: 0.8766 - val_loss: 0.9391 - val_acc: 0.8492\n",
      "Epoch 7/20\n",
      "100/100 [==============================] - 10s 102ms/step - loss: 0.2458 - acc: 0.9248 - val_loss: 1.1210 - val_acc: 0.7042\n",
      "Epoch 8/20\n",
      "100/100 [==============================] - 10s 97ms/step - loss: 0.0961 - acc: 0.9678 - val_loss: 1.8169 - val_acc: 0.6220\n",
      "Epoch 9/20\n",
      "100/100 [==============================] - 10s 99ms/step - loss: 0.1248 - acc: 0.9584 - val_loss: 2.5191 - val_acc: 0.5624\n",
      "Epoch 10/20\n",
      "100/100 [==============================] - 11s 107ms/step - loss: 0.1487 - acc: 0.9528 - val_loss: 1.7960 - val_acc: 0.6711\n",
      "Epoch 11/20\n",
      "100/100 [==============================] - 10s 100ms/step - loss: 0.1606 - acc: 0.9512 - val_loss: 2.8619 - val_acc: 0.6291\n",
      "Epoch 12/20\n",
      "100/100 [==============================] - 10s 102ms/step - loss: 0.2163 - acc: 0.9353 - val_loss: 1.4981 - val_acc: 0.7264\n",
      "Epoch 13/20\n",
      "100/100 [==============================] - 10s 103ms/step - loss: 0.1132 - acc: 0.9667 - val_loss: 3.4989 - val_acc: 0.7181\n",
      "Epoch 14/20\n",
      "100/100 [==============================] - 10s 100ms/step - loss: 0.1201 - acc: 0.9564 - val_loss: 1.8039 - val_acc: 0.6658\n",
      "Epoch 15/20\n",
      "100/100 [==============================] - 10s 105ms/step - loss: 0.1524 - acc: 0.9628 - val_loss: 3.8026 - val_acc: 0.6861\n",
      "Epoch 16/20\n",
      "100/100 [==============================] - 10s 101ms/step - loss: 0.1021 - acc: 0.9719 - val_loss: 1.9623 - val_acc: 0.6958\n",
      "Epoch 17/20\n",
      "100/100 [==============================] - 11s 108ms/step - loss: 0.0640 - acc: 0.9795 - val_loss: 3.0297 - val_acc: 0.6788\n",
      "Epoch 18/20\n",
      "100/100 [==============================] - 10s 102ms/step - loss: 0.0611 - acc: 0.9751 - val_loss: 2.3781 - val_acc: 0.7625\n",
      "Epoch 19/20\n",
      "100/100 [==============================] - 10s 105ms/step - loss: 0.0500 - acc: 0.9875 - val_loss: 3.4191 - val_acc: 0.6945\n",
      "Epoch 20/20\n",
      "100/100 [==============================] - 11s 105ms/step - loss: 0.0333 - acc: 0.9902 - val_loss: 2.1868 - val_acc: 0.6335\n"
     ]
    },
    {
     "data": {
      "text/plain": [
       "<keras.callbacks.History at 0x7faaf5fa9400>"
      ]
     },
     "execution_count": 25,
     "metadata": {},
     "output_type": "execute_result"
    }
   ],
   "source": [
    "model6.fit_generator(generator=train_generator, epochs = 20, steps_per_epoch=100, callbacks=callbacks, verbose=1,\n",
    "                   validation_data=test_generator, validation_steps=50)"
   ]
  },
  {
   "cell_type": "code",
   "execution_count": null,
   "metadata": {},
   "outputs": [],
   "source": [
    "model6.save('model6.h5')"
   ]
  },
  {
   "cell_type": "code",
   "execution_count": 17,
   "metadata": {},
   "outputs": [
    {
     "name": "stdout",
     "output_type": "stream",
     "text": [
      "_________________________________________________________________\n",
      "Layer (type)                 Output Shape              Param #   \n",
      "=================================================================\n",
      "lstm_1 (LSTM)                (None, 20, 128)           578048    \n",
      "_________________________________________________________________\n",
      "lstm_2 (LSTM)                (None, 20, 128)           131584    \n",
      "_________________________________________________________________\n",
      "dense_1 (Dense)              (None, 20, 100)           12900     \n",
      "_________________________________________________________________\n",
      "dropout_1 (Dropout)          (None, 20, 100)           0         \n",
      "_________________________________________________________________\n",
      "flatten_1 (Flatten)          (None, 2000)              0         \n",
      "_________________________________________________________________\n",
      "dense_2 (Dense)              (None, 9)                 18009     \n",
      "=================================================================\n",
      "Total params: 740,541\n",
      "Trainable params: 740,541\n",
      "Non-trainable params: 0\n",
      "_________________________________________________________________\n",
      "None\n"
     ]
    }
   ],
   "source": [
    "from keras.layers import Flatten, Dropout\n",
    "model7 = Sequential()\n",
    "model7.add(LSTM(128, return_sequences=True, input_shape= (frames_considered, 1000), dropout=0.5))\n",
    "model7.add(LSTM(128, return_sequences=True))\n",
    "model7.add(Dense(100, activation='relu'))\n",
    "model7.add(Dropout(0.5))\n",
    "model7.add(Flatten())\n",
    "model7.add(Dense(len(classes), activation='softmax'))\n",
    "model7.compile(loss = 'categorical_crossentropy', optimizer='adam',metrics=['accuracy'])\n",
    "print(model7.summary())"
   ]
  },
  {
   "cell_type": "code",
   "execution_count": 19,
   "metadata": {},
   "outputs": [
    {
     "name": "stdout",
     "output_type": "stream",
     "text": [
      "Epoch 1/20\n",
      "100/100 [==============================] - 10s 102ms/step - loss: 1.6315 - acc: 0.4165 - val_loss: 0.9998 - val_acc: 0.5737\n",
      "Epoch 2/20\n",
      "  1/100 [..............................] - ETA: 5s - loss: 1.6672 - acc: 0.4000"
     ]
    },
    {
     "name": "stderr",
     "output_type": "stream",
     "text": [
      "/home/neelr/anaconda3/lib/python3.6/site-packages/keras/callbacks.py:526: RuntimeWarning: Early stopping conditioned on metric `accuracy` which is not available. Available metrics are: val_loss,val_acc,loss,acc\n",
      "  (self.monitor, ','.join(list(logs.keys()))), RuntimeWarning\n",
      "/home/neelr/anaconda3/lib/python3.6/site-packages/keras/callbacks.py:958: RuntimeWarning: Reduce LR on plateau conditioned on metric `accuracy` which is not available. Available metrics are: val_loss,val_acc,loss,acc,lr\n",
      "  (self.monitor, ','.join(list(logs.keys()))), RuntimeWarning\n"
     ]
    },
    {
     "name": "stdout",
     "output_type": "stream",
     "text": [
      "100/100 [==============================] - 9s 94ms/step - loss: 1.2511 - acc: 0.5782 - val_loss: 1.4799 - val_acc: 0.6517\n",
      "Epoch 3/20\n",
      "  2/100 [..............................] - ETA: 7s - loss: 1.7453 - acc: 0.3111"
     ]
    },
    {
     "name": "stderr",
     "output_type": "stream",
     "text": [
      "/home/neelr/anaconda3/lib/python3.6/site-packages/keras/callbacks.py:526: RuntimeWarning: Early stopping conditioned on metric `accuracy` which is not available. Available metrics are: val_loss,val_acc,loss,acc,lr\n",
      "  (self.monitor, ','.join(list(logs.keys()))), RuntimeWarning\n"
     ]
    },
    {
     "name": "stdout",
     "output_type": "stream",
     "text": [
      "100/100 [==============================] - 10s 105ms/step - loss: 0.8083 - acc: 0.7027 - val_loss: 1.5332 - val_acc: 0.5721\n",
      "Epoch 4/20\n",
      "100/100 [==============================] - 12s 116ms/step - loss: 0.4680 - acc: 0.8477 - val_loss: 1.3911 - val_acc: 0.8074\n",
      "Epoch 5/20\n",
      "100/100 [==============================] - 11s 113ms/step - loss: 0.4322 - acc: 0.8487 - val_loss: 0.2547 - val_acc: 0.9610\n",
      "Epoch 6/20\n",
      "100/100 [==============================] - 11s 109ms/step - loss: 0.4339 - acc: 0.8478 - val_loss: 0.8750 - val_acc: 0.8459\n",
      "Epoch 7/20\n",
      "100/100 [==============================] - 11s 115ms/step - loss: 0.3654 - acc: 0.8690 - val_loss: 0.8294 - val_acc: 0.8921\n",
      "Epoch 8/20\n",
      "100/100 [==============================] - 11s 106ms/step - loss: 0.3971 - acc: 0.8767 - val_loss: 0.5764 - val_acc: 0.7173\n",
      "Epoch 9/20\n",
      "100/100 [==============================] - 9s 94ms/step - loss: 0.6500 - acc: 0.8115 - val_loss: 0.8756 - val_acc: 0.8369\n",
      "Epoch 10/20\n",
      "100/100 [==============================] - 10s 100ms/step - loss: 0.1735 - acc: 0.9474 - val_loss: 0.5099 - val_acc: 0.9311\n",
      "Epoch 11/20\n",
      "100/100 [==============================] - 11s 110ms/step - loss: 0.1817 - acc: 0.9239 - val_loss: 1.0266 - val_acc: 0.8816\n",
      "Epoch 12/20\n",
      "100/100 [==============================] - 11s 114ms/step - loss: 0.2414 - acc: 0.9139 - val_loss: 1.8017 - val_acc: 0.7093\n",
      "Epoch 13/20\n",
      "100/100 [==============================] - 11s 115ms/step - loss: 0.1425 - acc: 0.9612 - val_loss: 1.0715 - val_acc: 0.8397\n",
      "Epoch 14/20\n",
      "100/100 [==============================] - 11s 111ms/step - loss: 0.1244 - acc: 0.9585 - val_loss: 1.0757 - val_acc: 0.8798\n",
      "Epoch 15/20\n",
      "100/100 [==============================] - 12s 116ms/step - loss: 0.1960 - acc: 0.9386 - val_loss: 1.8471 - val_acc: 0.8161\n",
      "Epoch 16/20\n",
      "100/100 [==============================] - 11s 113ms/step - loss: 0.1918 - acc: 0.9450 - val_loss: 1.2473 - val_acc: 0.7678\n",
      "Epoch 17/20\n",
      "100/100 [==============================] - 11s 111ms/step - loss: 0.0471 - acc: 0.9848 - val_loss: 1.1803 - val_acc: 0.9127\n",
      "Epoch 18/20\n",
      "100/100 [==============================] - 11s 110ms/step - loss: 0.0929 - acc: 0.9662 - val_loss: 0.8685 - val_acc: 0.9113\n",
      "Epoch 19/20\n",
      "100/100 [==============================] - 11s 114ms/step - loss: 0.1302 - acc: 0.9622 - val_loss: 0.6404 - val_acc: 0.9420\n",
      "Epoch 20/20\n",
      "100/100 [==============================] - 11s 115ms/step - loss: 0.0629 - acc: 0.9801 - val_loss: 1.3756 - val_acc: 0.8754\n"
     ]
    },
    {
     "data": {
      "text/plain": [
       "<keras.callbacks.History at 0x7f8ef10fbc50>"
      ]
     },
     "execution_count": 19,
     "metadata": {},
     "output_type": "execute_result"
    }
   ],
   "source": [
    "model7.fit_generator(generator=train_generator, epochs = 20, steps_per_epoch=100, callbacks=callbacks, verbose=1,\n",
    "                   validation_data=test_generator, validation_steps=50)"
   ]
  },
  {
   "cell_type": "code",
   "execution_count": 20,
   "metadata": {},
   "outputs": [],
   "source": [
    "model7.save('90-10.h5')"
   ]
  },
  {
   "cell_type": "code",
   "execution_count": null,
   "metadata": {},
   "outputs": [],
   "source": []
  }
 ],
 "metadata": {
  "kernelspec": {
   "display_name": "Python 3",
   "language": "python",
   "name": "python3"
  },
  "language_info": {
   "codemirror_mode": {
    "name": "ipython",
    "version": 3
   },
   "file_extension": ".py",
   "mimetype": "text/x-python",
   "name": "python",
   "nbconvert_exporter": "python",
   "pygments_lexer": "ipython3",
   "version": "3.6.4"
  }
 },
 "nbformat": 4,
 "nbformat_minor": 2
}
